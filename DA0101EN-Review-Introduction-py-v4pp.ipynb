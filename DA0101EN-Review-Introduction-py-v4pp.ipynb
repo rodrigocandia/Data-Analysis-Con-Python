{
 "cells": [
  {
   "cell_type": "markdown",
   "metadata": {},
   "source": [
    "<div class=\"alert alert-block alert-info\" style=\"margin-top: 20px\">\n",
    " <a href=\"http://cocl.us/DA0101EN_NotbookLink_Top\"><img src = \"https://ibm.box.com/shared/static/fvp89yz8uzmr5q6bs6wnguxbf8x91z35.png\" width = 750, align = \"center\"></a>\n",
    "  <h1 align=center><font size = 5> Link</font></h1> "
   ]
  },
  {
   "cell_type": "markdown",
   "metadata": {
    "collapsed": true
   },
   "source": [
    " <a href=\"https://www.bigdatauniversity.com\"><img src = \"https://ibm.box.com/shared/static/ugcqz6ohbvff804xp84y4kqnvvk3bq1g.png\" width = 300, align = \"center\"></a>\n",
    "\n",
    "<h1 align=center><font size = 5>Data Analysis with Python</font></h1>"
   ]
  },
  {
   "cell_type": "markdown",
   "metadata": {},
   "source": [
    "# **Módulo 1 Introducción**\n",
    "\n",
    "**¡Bienvenidos!**\n",
    "\n",
    "En esta sección, aprenderá cómo abordar la adquisición de datos de varias maneras y obtendrá los conocimientos necesarios  de un conjunto de datos. Al final de esta práctica de laboratorio, cargará con éxito los datos en Jupyter Notebook y obtendrá  algunas ideas fundamentales a través de la Biblioteca Pandas.\n"
   ]
  },
  {
   "cell_type": "markdown",
   "metadata": {},
   "source": [
    "## Table of content\n",
    "\n",
    "<div class=\"alert alert-block alert-info\" style=\"margin-top: 20px\">\n",
    "<li><a href=\"#ref1\">Data Acquisition</a>\n",
    "<li><a href=\"#ref2\">Basic Insight of Dataset</a></li>\n",
    "<p></p>\n",
    "Estimated Time Needed: <strong>10 min</strong>\n",
    "</div>\n",
    "<hr>"
   ]
  },
  {
   "cell_type": "markdown",
   "metadata": {},
   "source": [
    "# *Adquisición de datos*\n",
    "\n",
    "Hay varios formatos para un conjunto de datos, .csv, .json, .xlsx, etc. El conjunto de datos se puede almacenar en diferentes lugares, en su máquina local o, en ocasiones, en línea. En esta sección, aprenderá cómo cargar un conjunto de datos en nuestro Jupyter Notebook. En nuestro caso, el conjunto de datos del automóvil es una fuente en línea y está en formato CSV (valores separados por comas). Usemos este conjunto de datos como ejemplo para practicar la lectura de datos. fuente de datos https://archive.ics.uci.edu/ml/machine-learning-databases/autos/imports-85.data tipo de datos: csv La Biblioteca Pandas es una herramienta útil que nos permite leer varios conjuntos de datos en un marco de datos; nuestras plataformas de notebook Jupyter tienen una Biblioteca de Pandas incorporada, por lo que todo lo que tenemos que hacer es importar Pandas sin instalar\n"
   ]
  },
  {
   "cell_type": "code",
   "execution_count": null,
   "metadata": {
    "collapsed": true
   },
   "outputs": [],
   "source": [
    "# import pandas library\n",
    "import pandas as pd"
   ]
  },
  {
   "cell_type": "markdown",
   "metadata": {},
   "source": [
    "# *Leer datos*\n",
    "\n",
    "Usamos la función \"pandas.read_csv ()\" para leer el archivo csv. En el paréntesis, colocamos la ruta del archivo junto con \n",
    "una comilla, para que los pandas lean el archivo en un marco de datos desde esa dirección. La ruta del archivo puede ser una \n",
    "URL o su dirección de archivo local. Debido a que los datos no incluyen encabezados, podemos agregar un argumento \n",
    "\"headers = none\" dentro del método \"read_csv ()\", para que los pandas no establezcan automáticamente la primera \n",
    "fila como encabezado. También puede asignar el conjunto de datos a cualquier variable que cree.\n"
   ]
  },
  {
   "cell_type": "code",
   "execution_count": null,
   "metadata": {},
   "outputs": [],
   "source": [
    "# import pandas library\n",
    "import pandas as pd\n",
    "# read the online file by the URL provides above, and assign it to variable \"df\"\n",
    "path=\"https://archive.ics.uci.edu/ml/machine-learning-databases/autos/imports-85.data\"\n",
    "\n",
    "df = pd.read_csv(path,header=None)\n",
    "print(\"Done\")"
   ]
  },
  {
   "cell_type": "markdown",
   "metadata": {},
   "source": [
    "Después de leer el conjunto de datos, podemos usar el método **dataframe.head(n)** para verificar las n filas superiores del marco de datos; donde n es un entero. Al contrario de **dataframe.head(n)**, **dataframe.tail (n)** le mostrará las n filas inferiores del marco de datos."
   ]
  },
  {
   "cell_type": "code",
   "execution_count": null,
   "metadata": {},
   "outputs": [],
   "source": [
    "# show the first 5 rows using dataframe.head() method\n",
    "df.head(5)"
   ]
  },
  {
   "cell_type": "markdown",
   "metadata": {},
   "source": [
    "<div class=\"alert alert-danger alertdanger\" style=\"margin-top: 20px\">\n",
    "<h1> Question #1: </h1>\n",
    "<b>check the bottom 10 rows of data frame \"df\".</b>\n",
    "</div>"
   ]
  },
  {
   "cell_type": "code",
   "execution_count": null,
   "metadata": {},
   "outputs": [],
   "source": [
    "\n"
   ]
  },
  {
   "cell_type": "markdown",
   "metadata": {},
   "source": [
    "<div class=\"alert alert-danger alertdanger\" style=\"margin-top: 20px\">\n",
    "<h1> Question #1 Answer: </h1>\n",
    "<b>Run the code below! Did you get the right code?</b>\n",
    "</div>"
   ]
  },
  {
   "cell_type": "markdown",
   "metadata": {},
   "source": [
    "\n",
    " <div align=\"right\">\n",
    "<a href=\"#q2\" class=\"btn btn-default\" data-toggle=\"collapse\">Click here for the solution</a>\n",
    "\n",
    "</div>\n",
    "<div id=\"q2\" class=\"collapse\">\n",
    "```\n",
    "df.tail(10)\n",
    "```\n",
    "</div>\n",
    "\n"
   ]
  },
  {
   "cell_type": "markdown",
   "metadata": {},
   "source": [
    "# *Agregar encabezados*\n",
    "\n",
    "Echa un vistazo a nuestro conjunto de datos; pandas establece automáticamente el encabezado por un número entero desde 0.\n",
    "\n",
    "Para describir mejor nuestros datos, podemos introducir un encabezado, esta información está disponible en: \n",
    "https://archive.ics.uci.edu/ml/datasets/Automobile\n",
    "    \n",
    "Por lo tanto, tenemos que agregar encabezados manualmente.\n",
    "En primer lugar, creamos una lista de \"encabezados\" que incluyen todos los nombres de columna en orden.\n",
    "Luego, usamos ** `dataframe.columns = headers` ** para reemplazar los encabezados por la lista que creamos.\n"
   ]
  },
  {
   "cell_type": "code",
   "execution_count": null,
   "metadata": {},
   "outputs": [],
   "source": [
    "# create headers list\n",
    "headers = [\"symboling\",\"normalized-losses\",\"make\",\"fuel-type\",\"aspiration\", \"num-of-doors\",\"body-style\",\n",
    "         \"drive-wheels\",\"engine-location\",\"wheel-base\", \"length\",\"width\",\"height\",\"curb-weight\",\"engine-type\",\n",
    "         \"num-of-cylinders\", \"engine-size\",\"fuel-system\",\"bore\",\"stroke\",\"compression-ratio\",\"horsepower\",\n",
    "         \"peak-rpm\",\"city-mpg\",\"highway-mpg\",\"price\"]\n",
    "headers"
   ]
  },
  {
   "cell_type": "markdown",
   "metadata": {},
   "source": [
    "Reemplazamos encabezados y volvemos a verificar nuestro marco de datos"
   ]
  },
  {
   "cell_type": "code",
   "execution_count": null,
   "metadata": {},
   "outputs": [],
   "source": [
    "df.columns = headers\n",
    "df.head(10)"
   ]
  },
  {
   "cell_type": "markdown",
   "metadata": {},
   "source": [
    "podemos soltar los valores faltantes a lo largo de la columna \"precio\" de la siguiente manera"
   ]
  },
  {
   "cell_type": "code",
   "execution_count": null,
   "metadata": {},
   "outputs": [],
   "source": [
    "df.dropna(subset=[\"price\"], axis=0)"
   ]
  },
  {
   "cell_type": "markdown",
   "metadata": {},
   "source": [
    "Ahora, hemos leído con éxito el conjunto de datos sin procesar y agregamos los encabezados correctos en el marco de datos."
   ]
  },
  {
   "cell_type": "markdown",
   "metadata": {},
   "source": [
    " <div class=\"alert alert-danger alertdanger\" style=\"margin-top: 20px\">\n",
    "<h1> Question #2: </h1>\n",
    "<b>Find the name of the colunms of the dataframe</b>\n",
    "</div>"
   ]
  },
  {
   "cell_type": "code",
   "execution_count": null,
   "metadata": {},
   "outputs": [],
   "source": []
  },
  {
   "cell_type": "markdown",
   "metadata": {},
   "source": [
    "  <div align=\"right\">\n",
    "<a href=\"#q3\" class=\"btn btn-default\" data-toggle=\"collapse\">Click here for the solution</a>\n",
    "\n",
    "</div>\n",
    "<div id=\"q3\" class=\"collapse\">\n",
    "```\n",
    "df.columns\n",
    "```\n",
    "</div>\n"
   ]
  },
  {
   "cell_type": "markdown",
   "metadata": {},
   "source": [
    "# *Guardar conjunto de datos*\n",
    "\n",
    "En consecuencia, Pandas nos permite guardar el conjunto de datos en csv utilizando el método *dataframe.to_csv ()*, \n",
    "puede agregar la ruta y el nombre del archivo junto con comillas entre paréntesis.\n",
    "\n",
    "Por ejemplo, si guarda el marco de datos \"df\" como \"Automobile.csv\" en su máquina local, puede usar la sintaxis a continuación:\n",
    "    \n",
    "    df.to_csv(\"automobile.csv\")\n"
   ]
  },
  {
   "cell_type": "markdown",
   "metadata": {},
   "source": [
    "También podemos leer y guardar otros formatos de archivo, podemos usar funciones similares a *pd.read_csv ()* y *df.to_csv ()* para otros formatos de datos, las funciones se enumeran en la siguiente tabla:"
   ]
  },
  {
   "cell_type": "markdown",
   "metadata": {},
   "source": [
    "## Read/Save Other Data Formats\n",
    "\n",
    "\n",
    "\n",
    "| Data Formate  | Read           | Save             |\n",
    "| ------------- |:--------------:| ----------------:|\n",
    "| csv           | `pd.read_csv()`  |`df.to_csv()`     |\n",
    "| json          | `pd.read_json()` |`df.to_json()`    |\n",
    "| excel         | `pd.read_excel()`|`df.to_excel()`   |\n",
    "| hdf           | `pd.read_hdf()`  |`df.to_hdf()`     |\n",
    "| sql           | `pd.read_sql()`  |`df.to_sql()`     |\n",
    "| ...           |   ...          |       ...        |"
   ]
  },
  {
   "cell_type": "markdown",
   "metadata": {},
   "source": [
    "# *Información básica del conjunto de datos*\n",
    "\n",
    "Después de leer los datos en el marco de datos de Pandas, es hora de que exploremos el conjunto de datos. Hay varias formas de obtener información esencial de los datos para ayudarnos a comprender mejor nuestro conjunto de datos.\n"
   ]
  },
  {
   "cell_type": "markdown",
   "metadata": {},
   "source": [
    "# *Tipos de datos*\n",
    "\n",
    "Los datos tienen una variedad de tipos. Los principales tipos almacenados en los marcos de datos de Pandas son *object*, *float*, *int*, *bool* y *datetime64*. Para conocer mejor cada atributo, siempre es bueno para nosotros conocer el tipo de datos de cada columna. En pandas:\n",
    "\n",
    "    dataframe.dtypes\n",
    "\n",
    "devuelve una serie con el tipo de datos de cada columna.\n"
   ]
  },
  {
   "cell_type": "code",
   "execution_count": null,
   "metadata": {
    "scrolled": false
   },
   "outputs": [],
   "source": [
    "# check the data type of data frame \"df\" by .dtypes\n",
    "df.dtypes"
   ]
  },
  {
   "cell_type": "markdown",
   "metadata": {},
   "source": [
    "Como resultado, como se muestra arriba, es claro ver que el tipo de datos de \"symboling\" y \"curb-weight\" son *int64*, \"normalized-losses\" es el *objeto* y \"wheel-base\" es *float64*, etc. los tipos de datos se pueden cambiar; Aprenderemos cómo lograr esto en un módulo posterior."
   ]
  },
  {
   "cell_type": "markdown",
   "metadata": {},
   "source": [
    "# *Describir*\n",
    "\n",
    "Si nos gustaría obtener un resumen estadístico de cada columna, como conteo, valor medio de columna, desviación estándar de columna, etc. Utilizamos el método de descripción:\n",
    "\n",
    "    dataframe.describe ()\n",
    "Este método proporcionará varias estadísticas de resumen, excluyendo los valores de NaN (no es un número).\n"
   ]
  },
  {
   "cell_type": "code",
   "execution_count": null,
   "metadata": {},
   "outputs": [],
   "source": [
    "df.describe()"
   ]
  },
  {
   "cell_type": "markdown",
   "metadata": {},
   "source": [
    "Esto muestra el resumen estadístico de todas las columnas de tipo numérico (int, float). Por ejemplo, el atributo \" symboling\" tiene 205 recuentos, el valor medio de esta columna es 0.83, la desviación estándar es 1.25, el valor mínimo es -2, el percentil 25 es 0, el percentil 50 es 1, el percentil 75 es 2 y El valor máximo es 3.\n",
    "\n",
    "Sin embargo, ¿qué pasaría si también quisiéramos verificar todas las columnas, incluidas las que son de tipo objeto?\n",
    "\n",
    "Puede agregar un argumento *include = \"all\"* dentro del paréntesis. Vamos a intentarlo de nuevo.\n"
   ]
  },
  {
   "cell_type": "code",
   "execution_count": null,
   "metadata": {},
   "outputs": [],
   "source": [
    "# describe all the columns in \"df\" \n",
    "df.describe(include = \"all\")"
   ]
  },
  {
   "cell_type": "markdown",
   "metadata": {},
   "source": [
    "Ahora, proporciona el resumen estadístico de todas las columnas, incluidos los atributos de tipo objeto. Ahora podemos ver cuántos valores únicos, que es el valor superior y la frecuencia del valor superior en las columnas de tipo objeto. Algunos valores en la tabla anterior se muestran como \"NaN\", esto se debe a que esos números no están disponibles con respecto a un tipo de columna en particular."
   ]
  },
  {
   "cell_type": "markdown",
   "metadata": {},
   "source": [
    " <div class=\"alert alert-danger alertdanger\" style=\"margin-top: 20px\">\n",
    "<h1> Question #3: </h1>\n",
    "\n",
    "<p>You can select the columns of a data frame by indicating the name of  each column, for example, you can select the three columns as follows:</p>\n",
    "<p></p>\n",
    "<p>dataframe[[' column 1 ',column 2', 'column 3'] ]</p>\n",
    "<p></p>\n",
    "<p>where \"column\" is the name of the column, you can apply the method  \".describe()\" to get the statistics of those columns as follows:</p>\n",
    "<p></p>\n",
    "<p>dataframe[[' column 1 ',column 2', 'column 3'] ].describe() </p>\n",
    "<p></p>\n",
    "\n",
    "Apply the  method to \".describe()\" to the columns 'length' and 'compression-ratio'.\n",
    "</div>"
   ]
  },
  {
   "cell_type": "markdown",
   "metadata": {},
   "source": [
    "  <div align=\"right\">\n",
    "<a href=\"#q4\" class=\"btn btn-default\" data-toggle=\"collapse\">Click here for the solution</a>\n",
    "\n",
    "</div>\n",
    "<div id=\"q4\" class=\"collapse\">\n",
    "```\n",
    " df[['length','compression-ratio']].describe()\n",
    "```\n",
    "</div>"
   ]
  },
  {
   "cell_type": "markdown",
   "metadata": {},
   "source": [
    "# *Informacion*\n",
    "Otro método que puede usar para verificar su conjunto de datos es:\n",
    "\n",
    "    dataframe.info\n",
    "Proporciona un resumen conciso de su DataFrame.\n"
   ]
  },
  {
   "cell_type": "code",
   "execution_count": null,
   "metadata": {},
   "outputs": [],
   "source": [
    "# look at the info of \"df\"\n",
    "df.info"
   ]
  },
  {
   "cell_type": "markdown",
   "metadata": {},
   "source": [
    "Aquí podemos ver la información de nuestro marco de datos, con las 30 filas superiores y las 30 filas inferiores.\n",
    "\n",
    "Y también nos muestra que el marco de datos completo tiene 205 filas y 26 columnas en total.\n"
   ]
  },
  {
   "cell_type": "markdown",
   "metadata": {},
   "source": [
    "# Excellent! You have just completed the  Introduction  Notebook! "
   ]
  },
  {
   "cell_type": "markdown",
   "metadata": {},
   "source": [
    "  \n",
    "### About the Authors:  \n",
    "\n",
    "This notebook was written by [Mahdi Noorian PhD](https://www.linkedin.com/in/mahdi-noorian-58219234/) ,[Joseph Santarcangelo PhD]( https://www.linkedin.com/in/joseph-s-50398b136/), Bahare Talayian, Eric Xiao, Steven Dong, Parizad , Hima Vsudevan and [Fiorella Wenver](https://www.linkedin.com/in/fiorellawever/).\n",
    "\n"
   ]
  },
  {
   "cell_type": "markdown",
   "metadata": {},
   "source": [
    " Copyright &copy; 2017 [cognitiveclass.ai](cognitiveclass.ai?utm_source=bducopyrightlink&utm_medium=dswb&utm_campaign=bdu). This notebook and its source code are released under the terms of the [MIT License](https://bigdatauniversity.com/mit-license/).\n"
   ]
  },
  {
   "cell_type": "markdown",
   "metadata": {
    "collapsed": true
   },
   "source": [
    "<div class=\"alert alert-block alert-info\" style=\"margin-top: 20px\">\n",
    " <a href=\"http://cocl.us/DA0101EN_NotbookLink_bottom\"><img src = \"https://ibm.box.com/shared/static/cy2mwm7519t4z6dxefjpzgtbpi9p8l7h.png\" width = 750, align = \"center\"></a>\n",
    " <h1 align=center><font size = 5> Link</font></h1> "
   ]
  },
  {
   "cell_type": "code",
   "execution_count": null,
   "metadata": {
    "collapsed": true
   },
   "outputs": [],
   "source": []
  }
 ],
 "metadata": {
  "anaconda-cloud": {},
  "kernelspec": {
   "display_name": "Python 3",
   "language": "python",
   "name": "python3"
  },
  "language_info": {
   "codemirror_mode": {
    "name": "ipython",
    "version": 3
   },
   "file_extension": ".py",
   "mimetype": "text/x-python",
   "name": "python",
   "nbconvert_exporter": "python",
   "pygments_lexer": "ipython3",
   "version": "3.7.4"
  }
 },
 "nbformat": 4,
 "nbformat_minor": 1
}
